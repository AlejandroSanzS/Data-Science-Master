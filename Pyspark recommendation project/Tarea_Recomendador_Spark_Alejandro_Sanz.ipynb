{
 "cells": [
  {
   "cell_type": "markdown",
   "metadata": {
    "pycharm": {}
   },
   "source": [
    "Para la realizacion de esta tarea se ha empleado las siguentes paginas como tutorial, siendo la principal el curso de datacamp de creación de un recomendador empleando pyspark.\n",
    "#### Building Recommendation Engines with PySpark\n",
    "https://www.datacamp.com/courses/recommendation-engines-in-pyspark\n",
    "\n",
    "#### Building a Movie Recommendation Service with Apache Spark & Flask - Part 1\n",
    "https://www.codementor.io/jadianes/building-a-recommender-with-apache-spark-python-example-app-part1-du1083qbw\n"
   ]
  },
  {
   "cell_type": "markdown",
   "metadata": {
    "pycharm": {}
   },
   "source": [
    "## Cargamos las librerias"
   ]
  },
  {
   "cell_type": "code",
   "execution_count": 1,
   "metadata": {
    "pycharm": {}
   },
   "outputs": [],
   "source": [
    "#Paquetes usuales.\n",
    "import numpy as np\n",
    "import pandas as pd\n",
    "\n",
    "#Paquetes de pyspark.\n",
    "from pyspark.sql.functions import *\n",
    "from pyspark.sql import SQLContext, SparkSession\n",
    "from pyspark import SparkContext\n",
    " \n",
    "#Paquetes para la creación del recomendador.\n",
    "from pyspark.ml.evaluation import RegressionEvaluator\n",
    "from pyspark.ml.recommendation import ALS\n",
    "from pyspark.ml.tuning import ParamGridBuilder, CrossValidator\n",
    "\n",
    "from pyspark.sql import Row\n",
    "\n"
   ]
  },
  {
   "cell_type": "code",
   "execution_count": 2,
   "metadata": {
    "pycharm": {}
   },
   "outputs": [
    {
     "name": "stdout",
     "output_type": "stream",
     "text": [
      "2.4.0\n"
     ]
    }
   ],
   "source": [
    "# Iniciamos Spark y el contexto de SQL\n",
    "spark = SparkContext()\n",
    "sqlContext = SQLContext(spark)\n",
    "\n",
    "sparky=SparkSession.builder.appName('movielensdb_recsys')\n",
    "# Comprobacion de que Spark funciona y mostramos la version\n",
    "\n",
    "print(spark.version)\n"
   ]
  },
  {
   "cell_type": "markdown",
   "metadata": {
    "pycharm": {}
   },
   "source": [
    "## Cargamos los datos"
   ]
  },
  {
   "cell_type": "code",
   "execution_count": 3,
   "metadata": {
    "pycharm": {}
   },
   "outputs": [],
   "source": [
    "datos = sqlContext.read.csv(\n",
    "    'ratings.dat',\n",
    "    header=False,\n",
    "    sep=':'\n",
    "    ,inferSchema=True\n",
    ")"
   ]
  },
  {
   "cell_type": "markdown",
   "metadata": {
    "pycharm": {}
   },
   "source": [
    "## Acondicionamiento de los datos"
   ]
  },
  {
   "cell_type": "markdown",
   "metadata": {
    "pycharm": {}
   },
   "source": [
    "Mostramos los datos, para ver que forma tiene."
   ]
  },
  {
   "cell_type": "code",
   "execution_count": 4,
   "metadata": {
    "pycharm": {}
   },
   "outputs": [
    {
     "name": "stdout",
     "output_type": "stream",
     "text": [
      "+---+----+----+----+---+----+---------+\n",
      "|_c0| _c1| _c2| _c3|_c4| _c5|      _c6|\n",
      "+---+----+----+----+---+----+---------+\n",
      "|  1|null|1193|null|  5|null|978300760|\n",
      "|  1|null| 661|null|  3|null|978302109|\n",
      "|  1|null| 914|null|  3|null|978301968|\n",
      "|  1|null|3408|null|  4|null|978300275|\n",
      "|  1|null|2355|null|  5|null|978824291|\n",
      "|  1|null|1197|null|  3|null|978302268|\n",
      "|  1|null|1287|null|  5|null|978302039|\n",
      "|  1|null|2804|null|  5|null|978300719|\n",
      "|  1|null| 594|null|  4|null|978302268|\n",
      "|  1|null| 919|null|  4|null|978301368|\n",
      "|  1|null| 595|null|  5|null|978824268|\n",
      "|  1|null| 938|null|  4|null|978301752|\n",
      "|  1|null|2398|null|  4|null|978302281|\n",
      "|  1|null|2918|null|  4|null|978302124|\n",
      "|  1|null|1035|null|  5|null|978301753|\n",
      "|  1|null|2791|null|  4|null|978302188|\n",
      "|  1|null|2687|null|  3|null|978824268|\n",
      "|  1|null|2018|null|  4|null|978301777|\n",
      "|  1|null|3105|null|  5|null|978301713|\n",
      "|  1|null|2797|null|  4|null|978302039|\n",
      "+---+----+----+----+---+----+---------+\n",
      "only showing top 20 rows\n",
      "\n"
     ]
    }
   ],
   "source": [
    "datos.show()"
   ]
  },
  {
   "cell_type": "markdown",
   "metadata": {
    "pycharm": {}
   },
   "source": [
    "Como vemos será necesario procesarlos para quedarnos con los datos limpios de forma que podamos crear el recomendador. Eliminaremos la última variable ya que el timestamp no nos afecta a la hora de realizar las recomendaciones."
   ]
  },
  {
   "cell_type": "code",
   "execution_count": 5,
   "metadata": {
    "pycharm": {}
   },
   "outputs": [
    {
     "name": "stdout",
     "output_type": "stream",
     "text": [
      "root\n",
      " |-- _c0: integer (nullable = true)\n",
      " |-- _c1: string (nullable = true)\n",
      " |-- _c2: integer (nullable = true)\n",
      " |-- _c3: string (nullable = true)\n",
      " |-- _c4: integer (nullable = true)\n",
      " |-- _c5: string (nullable = true)\n",
      " |-- _c6: integer (nullable = true)\n",
      "\n"
     ]
    }
   ],
   "source": [
    "datos.printSchema()"
   ]
  },
  {
   "cell_type": "code",
   "execution_count": 6,
   "metadata": {
    "pycharm": {}
   },
   "outputs": [],
   "source": [
    "sel=['_c0', '_c2', '_c4']\n",
    "datos = datos.select(sel)\n",
    "newcol=['userId','MovieId','Rating']\n",
    "for i in range(len(sel)):\n",
    "    datos = datos.withColumnRenamed(sel[i], newcol[i])"
   ]
  },
  {
   "cell_type": "code",
   "execution_count": 7,
   "metadata": {
    "pycharm": {}
   },
   "outputs": [
    {
     "name": "stdout",
     "output_type": "stream",
     "text": [
      "+------+-------+------+\n",
      "|userId|MovieId|Rating|\n",
      "+------+-------+------+\n",
      "|     1|   1193|     5|\n",
      "|     1|    661|     3|\n",
      "|     1|    914|     3|\n",
      "|     1|   3408|     4|\n",
      "|     1|   2355|     5|\n",
      "|     1|   1197|     3|\n",
      "|     1|   1287|     5|\n",
      "|     1|   2804|     5|\n",
      "|     1|    594|     4|\n",
      "|     1|    919|     4|\n",
      "|     1|    595|     5|\n",
      "|     1|    938|     4|\n",
      "|     1|   2398|     4|\n",
      "|     1|   2918|     4|\n",
      "|     1|   1035|     5|\n",
      "|     1|   2791|     4|\n",
      "|     1|   2687|     3|\n",
      "|     1|   2018|     4|\n",
      "|     1|   3105|     5|\n",
      "|     1|   2797|     4|\n",
      "+------+-------+------+\n",
      "only showing top 20 rows\n",
      "\n"
     ]
    }
   ],
   "source": [
    "datos.show()"
   ]
  },
  {
   "cell_type": "markdown",
   "metadata": {
    "pycharm": {}
   },
   "source": [
    "Estudiamos la matriz dispersa, ya que el metodo ALS funciona bien con datos vacios."
   ]
  },
  {
   "cell_type": "code",
   "execution_count": 8,
   "metadata": {
    "pycharm": {}
   },
   "outputs": [
    {
     "name": "stdout",
     "output_type": "stream",
     "text": [
      "El conjunto de datos de valoraciones esta vacio al   95.53% \n"
     ]
    }
   ],
   "source": [
    "# Contamos las valoraciones totales en el dataset. \n",
    "numerator = datos.select(\"rating\").count()\n",
    "\n",
    "# Contamos el numero total de userUd y movieId , que son únicos. \n",
    "\n",
    "num_users = datos.select(\"userId\").distinct().count()\n",
    "num_movies = datos.select(\"movieId\").distinct().count()\n",
    "\n",
    "# El denemoniador sera el numero de usuarios multiplicado por el total\n",
    "# de peliculas.\n",
    "\n",
    "denominator = num_users * num_movies\n",
    "\n",
    "# Obtenemos la dispersion. \n",
    "\n",
    "sparsity = (1.0 - (numerator *1.0)/denominator)*100\n",
    "print(\"El conjunto de datos de valoraciones esta vacio al  \", \"%.2f\" % sparsity + \"% \")"
   ]
  },
  {
   "cell_type": "code",
   "execution_count": 9,
   "metadata": {
    "pycharm": {}
   },
   "outputs": [],
   "source": [
    "# Convertimos las columnas a los datos correctos. \n",
    "datos = datos.select(\n",
    "    datos.userId.cast(\"integer\"), \n",
    "    datos.MovieId.cast(\"integer\"),\n",
    "    datos.Rating.cast(\"double\")\n",
    ")"
   ]
  },
  {
   "cell_type": "code",
   "execution_count": 10,
   "metadata": {
    "pycharm": {}
   },
   "outputs": [
    {
     "name": "stdout",
     "output_type": "stream",
     "text": [
      "root\n",
      " |-- userId: integer (nullable = true)\n",
      " |-- MovieId: integer (nullable = true)\n",
      " |-- Rating: double (nullable = true)\n",
      "\n"
     ]
    }
   ],
   "source": [
    "datos.printSchema()"
   ]
  },
  {
   "cell_type": "markdown",
   "metadata": {
    "pycharm": {}
   },
   "source": [
    "## Creacion del modelo"
   ]
  },
  {
   "cell_type": "markdown",
   "metadata": {
    "pycharm": {}
   },
   "source": [
    "Separamos los datos en conjunto de entrenamiento y conjunto de test."
   ]
  },
  {
   "cell_type": "code",
   "execution_count": 11,
   "metadata": {
    "pycharm": {}
   },
   "outputs": [],
   "source": [
    "train, test = datos.randomSplit([0.8, 0.2], seed = 23)\n"
   ]
  },
  {
   "cell_type": "code",
   "execution_count": 12,
   "metadata": {
    "pycharm": {}
   },
   "outputs": [
    {
     "name": "stdout",
     "output_type": "stream",
     "text": [
      "Número de modelos a probar:  12\n",
      "El evaluador :  RegressionEvaluator_d67386d76db2\n",
      "El crossValidator :  CrossValidator_061d83fb4315\n"
     ]
    }
   ],
   "source": [
    "# Creamos el modelo ALS. \n",
    "\n",
    "als = ALS(\n",
    "    userCol=\"userId\",\n",
    "    itemCol=\"MovieId\",\n",
    "    ratingCol=\"Rating\",\n",
    "    coldStartStrategy='drop',\n",
    "    nonnegative = True,\n",
    "    implicitPrefs = False\n",
    ")\n",
    "\n",
    "# Confirmamos que el modelo llamado \"als\" se ha creado. \n",
    "\n",
    "type(als)\n",
    "\n",
    "\n",
    "# Añadimos hyperparametros y sus respectivos valores a param_grid \n",
    "\n",
    "param_grid = ParamGridBuilder() \\\n",
    "            .addGrid(als.rank, [10, 50]) \\\n",
    "            .addGrid(als.maxIter, [5,10]) \\\n",
    "            .addGrid(als.regParam, [.01, .05, .1])\\\n",
    "            .build()\n",
    "print (\"Número de modelos a probar: \", len(param_grid))          \n",
    "# Definimos el evaluador como RMSE y mostramos la longitud del mismo\n",
    "\n",
    "evaluator = RegressionEvaluator(\n",
    "    metricName='rmse',\n",
    "    labelCol='Rating',\n",
    "    predictionCol='prediction'\n",
    ")\n",
    "print (\"El evaluador : \",evaluator)\n",
    "\n",
    "\n",
    "cv = CrossValidator(\n",
    "    estimator=als,\n",
    "    estimatorParamMaps=param_grid,\n",
    "    evaluator=evaluator,\n",
    "    numFolds=5\n",
    ")\n",
    "print (\"El crossValidator : \",cv)\n"
   ]
  },
  {
   "cell_type": "markdown",
   "metadata": {
    "pycharm": {}
   },
   "source": [
    "## Entrenamos el modelo"
   ]
  },
  {
   "cell_type": "markdown",
   "metadata": {
    "pycharm": {}
   },
   "source": [
    "Emplearemos unicamente 12 modelos ya que si se toman un número superior, el tiempo de entrenamiento puede requerir de bastante tiempo.\n",
    "(Se probó inicialmente con 64 modelos, tras una hora no había finalizado)"
   ]
  },
  {
   "cell_type": "code",
   "execution_count": 13,
   "metadata": {
    "pycharm": {}
   },
   "outputs": [],
   "source": [
    "# Entrenamos el modelo de validacion cruzacda con los datos de entrenamiento.\n",
    "\n",
    "model = cv.fit(train)\n",
    "\n",
    "# Extraemos el mejor modelo de los obtenidos.\n",
    "best_model = model.bestModel"
   ]
  },
  {
   "cell_type": "code",
   "execution_count": 14,
   "metadata": {
    "pycharm": {}
   },
   "outputs": [
    {
     "name": "stdout",
     "output_type": "stream",
     "text": [
      "+------+-------+------+----------+\n",
      "|userId|MovieId|Rating|prediction|\n",
      "+------+-------+------+----------+\n",
      "|   673|    148|   5.0| 3.2892156|\n",
      "|  4169|    148|   3.0| 2.8381042|\n",
      "|  4227|    148|   2.0|  2.057883|\n",
      "|  4387|    148|   1.0| 2.3310013|\n",
      "|  1605|    148|   2.0| 2.4195395|\n",
      "|  4169|    463|   2.0| 2.6698651|\n",
      "|  4277|    463|   4.0|  3.347712|\n",
      "|  4510|    463|   2.0|   2.16754|\n",
      "|  3709|    463|   3.0| 2.4040918|\n",
      "|  5249|    463|   3.0| 2.8984437|\n",
      "|   721|    463|   4.0| 3.2624204|\n",
      "|  4613|    463|   4.0|  4.033521|\n",
      "|  3618|    463|   3.0|  2.698788|\n",
      "|  1980|    463|   2.0| 2.4382515|\n",
      "|   934|    463|   3.0|  2.194287|\n",
      "|  5300|    471|   4.0| 4.1296616|\n",
      "|   392|    471|   4.0| 3.5982165|\n",
      "|  5614|    471|   5.0| 3.8690703|\n",
      "|  3704|    471|   5.0| 4.3825336|\n",
      "|    78|    471|   4.0|  3.318017|\n",
      "+------+-------+------+----------+\n",
      "only showing top 20 rows\n",
      "\n"
     ]
    }
   ],
   "source": [
    "# Obtenemos las predicciones y mostramos unas pocas.\n",
    "test_predictions = best_model.transform(test)\n",
    "test_predictions.show()"
   ]
  },
  {
   "cell_type": "code",
   "execution_count": 15,
   "metadata": {
    "pycharm": {}
   },
   "outputs": [
    {
     "name": "stdout",
     "output_type": "stream",
     "text": [
      "0.8692385753494289\n"
     ]
    }
   ],
   "source": [
    "# Calculamos y mostramos el RMSE para las predicciones para el conjunto de test.\n",
    "RMSE = evaluator.evaluate(test_predictions)\n",
    "print(RMSE)"
   ]
  },
  {
   "cell_type": "code",
   "execution_count": 16,
   "metadata": {
    "pycharm": {}
   },
   "outputs": [],
   "source": [
    "spark.stop()"
   ]
  }
 ],
 "metadata": {
  "kernelspec": {
   "display_name": "Python 3",
   "language": "python",
   "name": "python3"
  },
  "language_info": {
   "codemirror_mode": {
    "name": "ipython",
    "version": 3
   },
   "file_extension": ".py",
   "mimetype": "text/x-python",
   "name": "python",
   "nbconvert_exporter": "python",
   "pygments_lexer": "ipython3",
   "version": "3.6.8"
  },
  "stem_cell": {
   "cell_type": "raw",
   "metadata": {
    "pycharm": {
     "metadata": false
    }
   },
   "source": "...#%% md\n## Consideraciones previas:"
  }
 },
 "nbformat": 4,
 "nbformat_minor": 2
}
